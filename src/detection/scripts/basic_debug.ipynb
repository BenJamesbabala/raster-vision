{
 "cells": [
  {
   "cell_type": "code",
   "execution_count": 3,
   "metadata": {},
   "outputs": [],
   "source": [
    "from os.path import join\n",
    "\n",
    "import numpy as np\n",
    "import PIL\n",
    "import rasterio\n",
    "import matplotlib\n",
    "import matplotlib.pyplot as plt\n",
    "%matplotlib inline\n",
    "\n",
    "from data_extent import data, folders"
   ]
  },
  {
   "cell_type": "code",
   "execution_count": null,
   "metadata": {
    "collapsed": true
   },
   "outputs": [],
   "source": [
    "def rasterio_index(rect, src):\n",
    "    ul = src.index(rect[0], rect[3])\n",
    "    lr = src.index(rect[1], rect[2])\n",
    "\n",
    "    minx = min(ul[0], lr[0])\n",
    "    maxx = max(ul[0], lr[0])\n",
    "    miny = min(ul[1], lr[1])\n",
    "    maxy = max(ul[1], lr[1])\n",
    "\n",
    "    if miny == maxy:\n",
    "        maxy += 20\n",
    "        print(\"I'm bad!\", rect[2], rect[3], miny, maxy, minx, maxx)\n",
    "\n",
    "    return [minx, maxx, miny, maxy]"
   ]
  },
  {
   "cell_type": "code",
   "execution_count": null,
   "metadata": {
    "collapsed": true
   },
   "outputs": [],
   "source": [
    "def expand_window_no_offset(bbox):\n",
    "    if bbox[0] - 128 < 0 or bbox[0] + 128 < 0 or bbox[1] - 128 < 0 or \\\n",
    "       bbox[1] + 128 < 0:\n",
    "        return None\n",
    "    return [bbox[0] - 128, bbox[0] + 128, bbox[2] - 128, bbox[2] + 128]"
   ]
  },
  {
   "cell_type": "code",
   "execution_count": null,
   "metadata": {
    "collapsed": true
   },
   "outputs": [],
   "source": [
    "def main():\n",
    "    # Setting up paths\n",
    "    datasets_path = '/home/annie/Data/datasets/planet_ships/singapore'\n",
    "    img_ind = 10  # Select tif #10 for this notebook\n",
    "    dir_path = join(datasets_path, folders[img_ind]) + '/'\n",
    "    img_name = data[img_ind][0]\n",
    "    img_corners = data[img_ind][1]\n",
    "    src_path = dir_path + 'test_' + str(img_ind) + '.tif'  # warped data\n",
    "    ogr_path = dir_path + 'ships_ogr_' + str(img_ind) + '.geojson'\n",
    "\n",
    "    # Opening source tif\n",
    "    src_ds = rasterio.open(src_path)\n",
    "\n",
    "    rectangle_js = rectangle['geometry']['coordinates'][0]\n",
    "    rect = [min(rectangle_js[0][0], rectangle_js[1][0]),  # minX/left\n",
    "        max(rectangle_js[0][0], rectangle_js[1][0]),  # maxX/right\n",
    "        min(rectangle_js[0][1], rectangle_js[2][1]),  # minY/bottom\n",
    "        max(rectangle_js[0][1], rectangle_js[2][1])]   # maxY/top\n",
    "\n",
    "    bbox_coords =\n",
    "    with open(ogr_filename) as ogr:\n",
    "        ogr_dict = json.load(ogr)\n",
    "\n",
    "    coord_rectangles = [create_coordinate_rectangle(feat) for feat in ogr_dict['features'][::2]]\n",
    "    pixel_coords = [rasterio_index(rect, src_ds) for rect in coord_rectangles]\n",
    "    \n",
    "    ship_boxes = [rasterio.coords.BoundingBox(*bbox_ordered_coords(bbox)) for bbox in bbox_coords]\n",
    "    chip_coords = [expand_window_with_offset(bbox) for bbox in bbox_coords]\n",
    "    chip_boxes = [rasterio.coords.BoundingBox(*bbox_ordered_coords(chip)) for chip in chip_coords]\n",
    "    box_up = [expand_window_no_offset(bbox) for bbox in bbox_coords]\n",
    "    windows, all_ships = filter_windows(chip_boxes, ship_boxes,\n",
    "                                        src_ds.shape[0],\n",
    "                                        src_ds.shape[1])\n",
    "\n",
    "    masks = [window_ordered_coords(window) for window in windows]\n"
   ]
  },
  {
   "cell_type": "code",
   "execution_count": null,
   "metadata": {
    "collapsed": true
   },
   "outputs": [],
   "source": [
    "    with rasterio.open(\n",
    "            write_path + chip + '.jpg', 'w',\n",
    "            driver='JPEG', width=256, height=256, count=3,\n",
    "            dtype='uint8') as dst:\n",
    "        \n",
    "        for ship in ships_in_mask:\n",
    "            write_debug_chip(chip, write_path, data_type, ships_in_mask\n",
    "                         )\n",
    "            chip_ships_list.append((chip + '.' + data_type, ship[0],\n",
    "                               ship[1], ship[2], ship[3], 'ship'))\n",
    "        \n",
    "        mask_img = src_ds.read([3, 2, 1], window=mask)\n",
    "        rescale_img = np.reshape(mask_img, (-1, 1))\n",
    "        scaler = MinMaxScaler(feature_range=(0, 255))\n",
    "        rescale_img = scaler.fit_transform(rescale_img)\n",
    "        mask_img_scaled = (np.reshape(rescale_img,\n",
    "                           mask_img.shape)).astype(np.uint8)"
   ]
  },
  {
   "cell_type": "code",
   "execution_count": null,
   "metadata": {
    "collapsed": true
   },
   "outputs": [],
   "source": [
    "        # Create figure and axes\n",
    "        fig, ax = plt.subplots(1)\n",
    "        for ship in ships:\n",
    "            rect = patches.Rectangle((ship[2], ship[0]), ship[3] - ship[2],\n",
    "                                     ship[1] - ship[0],\n",
    "                                     linewidth=1, edgecolor='r',\n",
    "                                     facecolor='none')\n",
    "            ax.add_patch(rect)\n",
    "\n",
    "        plt.imshow(mask_img_scaled, origin='upper')\n",
    "\n",
    "        plt.show()"
   ]
  },
  {
   "cell_type": "code",
   "execution_count": null,
   "metadata": {
    "collapsed": true
   },
   "outputs": [],
   "source": [
    "main()"
   ]
  }
 ],
 "metadata": {
  "kernelspec": {
   "display_name": "Python 2",
   "language": "python",
   "name": "python2"
  },
  "language_info": {
   "codemirror_mode": {
    "name": "ipython",
    "version": 2
   },
   "file_extension": ".py",
   "mimetype": "text/x-python",
   "name": "python",
   "nbconvert_exporter": "python",
   "pygments_lexer": "ipython2",
   "version": "2.7.12"
  }
 },
 "nbformat": 4,
 "nbformat_minor": 2
}
